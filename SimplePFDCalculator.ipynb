{
 "metadata": {
  "name": "SimplePFDCalculator"
 },
 "nbformat": 3,
 "nbformat_minor": 0,
 "worksheets": [
  {
   "cells": [
    {
     "cell_type": "markdown",
     "metadata": {},
     "source": "Very simple model to calculate the potential flight distance based on a saw model. Some time is spent for climbing with an average climbing rate, then depending on the speed some time is spent to go to the next lift in the workingBand. This is repeated until the day is finished.\nAs i found, not a very clever idea: since the model expects that a lift is found after the working height is used, best performance is achieved when the working band is minimal. This is certainly not true since updrafts stand some distance away from eachother."
    },
    {
     "cell_type": "code",
     "collapsed": false,
     "input": "from numpy import linspace  \nfrom pylab import *\n\npolar = lambda x: 1.32-0.016*x # linear polar based on two points (discus)\nv = np.linspace(110,160) # km/h\n\n\ndef PFDCalc(averageLift):   # returns the potential flight distance depending on the velocity profile\n                            # for an given average climbe rate \n    workingBand =  500.      # m\n    flightTime = 6*60*60     # in s\n    climbeTime = workingBand/averageLift # in s\n    timeBetweenLift = workingHeight/abs(polar(v))\n    distanceTolift = v*1/3.6*timeBetweenLift\n    iterationTime = climbeTime + timeBetweenLift\n    nIterations = flightTime/iterationTime\n    totalDistance = distanceTolift*nIterations/1000\n    return totalDistance\n\nplot(v,PFDCalc(0.5),v,PFDCalc(1),v,PFDCalc(1.5),v,PFDCalc(2),v,PFDCalc(3))\nxlabel('Speed Between Lift [km/h]')\nylabel('Potential Flight Distance [km]')\nlegend([\"0.5m/s\", \"1.0m/s\",\"1.5m/s\",\"2.0m/s\",\"3.0m/s\"],loc=2)\ngrid()\nshow()",
     "language": "python",
     "metadata": {},
     "outputs": [],
     "prompt_number": 129
    },
    {
     "cell_type": "code",
     "collapsed": false,
     "input": "",
     "language": "python",
     "metadata": {},
     "outputs": [],
     "prompt_number": 121
    },
    {
     "cell_type": "code",
     "collapsed": false,
     "input": "",
     "language": "python",
     "metadata": {},
     "outputs": [],
     "prompt_number": 117
    },
    {
     "cell_type": "code",
     "collapsed": false,
     "input": "",
     "language": "python",
     "metadata": {},
     "outputs": []
    }
   ],
   "metadata": {}
  }
 ]
}